{
  "cells": [
    {
      "cell_type": "code",
      "execution_count": null,
      "metadata": {
        "collapsed": false
      },
      "outputs": [],
      "source": [
        "%matplotlib inline"
      ]
    },
    {
      "cell_type": "markdown",
      "metadata": {},
      "source": [
        "\nPhased array source\n====================================\n\nPhased arrays consist of multiple individual transducer elements arranged in a specific pattern, such as a linear or circle. Each element can be controlled independently, allowing for precise manipulation of the generated ultrasound waves. By adjusting the timing or phase of the signals sent to these elements, the ultrasound waves can be focused, steered, and shaped without mechanically moving the transducer.\n\nThey are becoming increasingly popular in the field of transcranial ultrasound stimulation as they offer several advantages over traditional ultrasound transducers -- among others are precise targeting and better control over steering and shaping:\n\n* **Precise targeting:** as individual transducer elements can be individually controlled, it allows for the generation of a focused ultrasound beam with high spatial accuracy. This enables the stimulation of specific brain regions without affecting the surrounding healthy tissue and minimizes the risk of potential side effects.\n\n* **Steering and shaping:** The phased array technology allows the ultrasound beam to be electronically steered and shaped in real-time without mechanically moving the transducers. This enables targeting of different brain regions or adjusting the stimulation pattern as needed during a session, making the procedure more versatile and adaptable.\n\nThese features allow the stimulation to be tailored to suit to more specific requirements. With ongoing research and development, they have the potential to revolutionize the field of brain stimulation and offer new treatment options for a range of neurological and psychiatric disorders.\n\nThis notebook will show how to define a phased array within NDK and experiment with some of the available features. For more details, checkout the [NDK documentation](https://agencyenterprise.github.io/neurotechdevkit/).\n\n## Phased Arrays Components\n\n* **Elements:** A phased array consists of multiple transducer elements that can be individually controlled in terms of phase.\n* **Pitch:** The pitch of a phased array refers to the distance between adjacent transducer elements, and affects the resolution of the array.\n* **Spacing:** The spacing between transducer elements affects the width and shape of the ultrasound beam that is produced.\n* **Aperture:** The aperture of a phased array refers to the total size of the array, and affects the power and focus of the ultrasound beam.\n* **Element width:** The element width of a phased array refers to the size of each individual transducer element. Wider elements generally result in a more powerful and focused beam, while narrower elements can increase the resolution of the array.\n* **Tilt angle**: The tilt angle of a phased array refers to the angle at which the ultrasound beam is directed relative to the normal of plane of the array. Tilt angle can be adjusted by controlling the phase (delays) of the individual transducer elements.\n\n![phased-array-schematic](../../images/phased-array-schematic.png)\n\nThe image above shows a schematic representation of a phased array.\n\n\n![phased-array-axis-definition](../../images/phased-array-axis-definition.png)\n\nThe image above shows the axis definition and the look of a phased array in the real world. Image source [link](https://www.biomecardio.com/MUST/functions/html/txdelay_doc.html).\n\n\nBelow we will go through some examples of how to use the NDK to API to simulate Phased Arrays in the most common settings. Examples we wil cover:\n\n* Setting up a tilted wavefront\n* Focusing phased arrays\n* Setting up custom delays per element\n* Phased arrays in 3D\n\n## Phased Array NDK API\n\nA PhasedArraySource receives the following parameters:\n\n- position `(npt.NDArray[np.float_])`: a numpy float array indicating\n    the coordinates (in meters) of the point at the center of the\n    source, which is the point that bisects the line segment source.\n- direction `(npt.NDArray[np.float_])`: a numpy float array representing\n    a vector located at position that is perpendicular to the plane\n    of the source. Only the orientation of `direction` affects the\n    source, the length of the vector has no affect. See the\n    `unit_direction` property.\n- num_points `(int)`: the number of point sources to use when simulating\n    the source.\n- num_elements `(int)`: the number of elements of the phased array.\n- pitch `(float)`: the distance (in meters) between the centers of neighboring\n    elements in the phased array.\n- element_width `(float)`: the width (in meters) of each individual element of the array.\n- tilt_angle `(float)`: the desired tilt angle (in degrees) of the wavefront. The angle is\n    measured between the direction the wavefront travels and the normal to the\n    surface of the transducer, with positive angles resulting in a\n    counter-clockwise tilt away from the normal.\n- focal_length `(float)`: the distance (in meters) from `position` to the focal\n    point.\n- delay `(float, optional)`: the delay (in seconds) that the source will wait\n    before emitting.\n- element_delays: an 1D array with the delays (in seconds) for each element of the\n    phased array. Delays from `element_delays` take precedence; No other\n    argument affected the delays (`tilt_angle`, `focal_length` or `delay`)\n    would be considered. ValueError will be raised if provided values for either\n    `tilt_angle`, `focal_length` or `delay` are non-default.\n"
      ]
    },
    {
      "cell_type": "markdown",
      "metadata": {},
      "source": [
        "## Tilting the Wavefront\nTilting the wavefront can be achieved simply by setting the `tilt_angle`\nargument different than zero. Positive angles result in counter-clockwise rotations.\n\n"
      ]
    },
    {
      "cell_type": "code",
      "execution_count": null,
      "metadata": {
        "collapsed": false
      },
      "outputs": [],
      "source": [
        "import numpy as np\nimport neurotechdevkit as ndk\n\n\n# define the source\nsource = ndk.sources.PhasedArraySource2D(\n            position=np.array([0.0, 0.0]),\n            direction=np.array([1., 0.]),\n            num_elements=20,\n            pitch=1.5e-3,\n            element_width=1.2e-3,\n            tilt_angle=30,\n            num_points=1000,\n)\n\nscenario = ndk.make('scenario-1-2d-v0')\nscenario.add_source(source)\nresult = scenario.simulate_steady_state()\nresult.render_steady_state_amplitudes()"
      ]
    },
    {
      "cell_type": "markdown",
      "metadata": {},
      "source": [
        "## Focusing\nSimilarly, a phased array can be focused by applying delays in a specific way. Such delays are automatically computed when `focal_length` is defined. Let's explore how the API looks like:\n\n"
      ]
    },
    {
      "cell_type": "code",
      "execution_count": null,
      "metadata": {
        "collapsed": false
      },
      "outputs": [],
      "source": [
        "scenario = ndk.make('scenario-1-2d-v0')\n\nphased_array = ndk.sources.PhasedArraySource2D(\n            position=np.array([0.0, 0.0]),\n            direction=np.array([1.0, 0.0]),\n            num_elements=20,\n            pitch=1.5e-3,\n            element_width=1.2e-3,\n            focal_length=0.03,\n            num_points=1000,\n)\n\nscenario.add_source(phased_array)\nprint(f'Focal point is: {phased_array.focal_point}')"
      ]
    },
    {
      "cell_type": "markdown",
      "metadata": {},
      "source": [
        "`focal_point` shows the coordinates (in meters) where the array focuses.\n\n"
      ]
    },
    {
      "cell_type": "code",
      "execution_count": null,
      "metadata": {
        "collapsed": false
      },
      "outputs": [],
      "source": [
        "result = scenario.simulate_steady_state()\nresult.render_steady_state_amplitudes()"
      ]
    },
    {
      "cell_type": "markdown",
      "metadata": {},
      "source": [
        "We can see that the arrays focuses at a distance equal to `focal_length`.\n\n"
      ]
    },
    {
      "cell_type": "markdown",
      "metadata": {},
      "source": [
        "## Custom Wavefront Shapes\nIn the examples shown so far we specified high level arguments and the required delays were\nautomatically computed. The NDK API offers also the possibility to specify delays directly\nto create arbitrary wavefront shapes.\n\nIn the example below we apply monotonically increasing delays to mimic a counter-clockwise angle.\n\n"
      ]
    },
    {
      "cell_type": "code",
      "execution_count": null,
      "metadata": {
        "collapsed": false
      },
      "outputs": [],
      "source": [
        "scenario = ndk.make('scenario-1-2d-v0')\n\nphased_array = ndk.sources.PhasedArraySource2D(\n            position=np.array([0.0, 0.0]),\n            direction=np.array([1., 0.]),\n            num_elements=20,\n            pitch=1.5e-3,\n            element_width=1.2e-3,\n            element_delays=np.linspace(0, 1e-5, 20),\n            num_points=1000,\n)\n\nscenario.add_source(phased_array)\nresult = scenario.simulate_steady_state()\nresult.render_steady_state_amplitudes()"
      ]
    },
    {
      "cell_type": "markdown",
      "metadata": {},
      "source": [
        "## Phased Arrays In Three Dimensions\nThere are two extra details to consider when creating 3D phased array sources:\nthe `height` of the elements and the position of the `center_line`.\n\n- Height: Is the distance (in meters) of the element measured in a straight line\n  perpendicular to the `element_width` (see image below)\n- Center line: As the name indicates, is the line that crosses the centers of the\n  elements. Must be orthogonal to the direction line.\n\n![phased-array-3d](../../images/phased-array-3d.png)\n\nThe rest of the API is identical for both 2D and 3D scenarios.\n\n"
      ]
    },
    {
      "cell_type": "code",
      "execution_count": null,
      "metadata": {
        "collapsed": false
      },
      "outputs": [],
      "source": [
        "scenario = ndk.make('scenario-1-3d-v0')\n\nphased_3d = ndk.sources.PhasedArraySource3D(\n    position=np.array([0.,0.,0.]),\n    direction=np.array([1.,0.,0.]),\n    center_line=np.array([0.,0.,1.]),\n    num_points=20_000,\n    num_elements=16,\n    pitch=1.5e-3,\n    element_width=1.2e-3,\n    tilt_angle=30,\n    height=5.e-3)\n\nscenario.add_source(phased_3d)\nresults = scenario.simulate_steady_state()\nresults.render_steady_state_amplitudes(slice_axis=1, slice_position=0.0)"
      ]
    }
  ],
  "metadata": {
    "kernelspec": {
      "display_name": "Python 3",
      "language": "python",
      "name": "python3"
    },
    "language_info": {
      "codemirror_mode": {
        "name": "ipython",
        "version": 3
      },
      "file_extension": ".py",
      "mimetype": "text/x-python",
      "name": "python",
      "nbconvert_exporter": "python",
      "pygments_lexer": "ipython3",
      "version": "3.9.1"
    }
  },
  "nbformat": 4,
  "nbformat_minor": 0
}