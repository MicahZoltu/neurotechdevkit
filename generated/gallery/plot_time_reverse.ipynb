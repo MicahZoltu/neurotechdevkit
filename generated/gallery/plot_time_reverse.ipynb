{
  "cells": [
    {
      "cell_type": "code",
      "execution_count": null,
      "metadata": {
        "collapsed": false
      },
      "outputs": [],
      "source": [
        "%matplotlib inline"
      ]
    },
    {
      "cell_type": "markdown",
      "metadata": {},
      "source": [
        "\nTime-reverse simulation for phased array\n====================================================================\n\nThe skull adds aberrations to the beam propagation; phased arrays can compensate\nfor those by having different delays for each element, but estimating these\ndelays can be challenging.\nOne method to estimate the delays is a \"time reverse\" simulation as described in\nthis [Article](https://koreascience.kr/article/JAKO200612242715181.pdf).\nThis notebook demonstrates the \"time reverse\" method to estimate the delays. The\nnotebook sets up a scenario with a phased array source and a target and then\nruns a simulation with the source and target reversed to calculate the delays.\nFinally, it uses the calculated delays to perform a forward-time simulation.\n\n!!! note\n    In this notebook, we refer to the \"true\" target as the eventual brain\n    region we would like to stimulate, and the \"true\" source as the placement of\n    the ultrasound probes. We refer to the \"reversed\" or \"simulated\" target and\n    point-source as the values defined in our simulation, which are reversed from\n    the physical setup to help calculate values.\n"
      ]
    },
    {
      "cell_type": "code",
      "execution_count": null,
      "metadata": {
        "collapsed": false
      },
      "outputs": [],
      "source": [
        "import matplotlib.pyplot as plt\nimport numpy as np\n\nimport neurotechdevkit as ndk\n\n# Parameters\nNUM_ELEMENTS = 20\nELEMENT_WIDTH = 1.2e-3"
      ]
    },
    {
      "cell_type": "markdown",
      "metadata": {},
      "source": [
        "Helper function to make the scenario with a PhasedArraySource\n\n"
      ]
    },
    {
      "cell_type": "code",
      "execution_count": null,
      "metadata": {
        "collapsed": false
      },
      "outputs": [],
      "source": [
        "def make_scenario(element_delays=None):\n    true_scenario = ndk.scenarios.built_in.Scenario2_2D()\n\n    # define a phased-array source\n    default_source = true_scenario.sources[0]\n    true_source = ndk.sources.PhasedArraySource2D(\n        element_delays=element_delays,\n        position=default_source.position,\n        direction=default_source.unit_direction,\n        num_elements=NUM_ELEMENTS,\n        pitch=default_source.aperture / NUM_ELEMENTS,\n        element_width=ELEMENT_WIDTH,\n        num_points=1000,\n    )\n\n    true_scenario.sources = [true_source]\n    return true_scenario"
      ]
    },
    {
      "cell_type": "markdown",
      "metadata": {},
      "source": [
        "## Set up and visualize the forward scenario\n\n"
      ]
    },
    {
      "cell_type": "code",
      "execution_count": null,
      "metadata": {
        "collapsed": false
      },
      "outputs": [],
      "source": [
        "true_scenario = make_scenario()\ntrue_scenario.make_grid()\ntrue_scenario.compile_problem()\ntrue_scenario.render_layout()"
      ]
    },
    {
      "cell_type": "markdown",
      "metadata": {},
      "source": [
        "## Simulate the time-reverse scenario\nPlace a point source at the true target, and simulate a pulse.\nThe point source is visualized as a gray dot.\n\n"
      ]
    },
    {
      "cell_type": "code",
      "execution_count": null,
      "metadata": {
        "collapsed": false
      },
      "outputs": [],
      "source": [
        "# Reinitialize the scenario\nreversed_scenario = ndk.scenarios.built_in.Scenario2_2D()\n# and reverse the source\npoint_source = ndk.sources.PointSource2D(\n    position=true_scenario.target.center,\n)\nreversed_scenario.sources.append(point_source)\n\nreversed_scenario.make_grid()\nreversed_scenario.compile_problem()\nreversed_scenario.render_layout()"
      ]
    },
    {
      "cell_type": "code",
      "execution_count": null,
      "metadata": {
        "collapsed": false
      },
      "outputs": [],
      "source": [
        "result = reversed_scenario.simulate_pulse()\nassert isinstance(result, ndk.results.PulsedResult2D)\nresult.render_pulsed_simulation_animation()"
      ]
    },
    {
      "cell_type": "markdown",
      "metadata": {},
      "source": [
        "We calculate how long it took for the point-source pulse to reach each of\nthe true array elements. Here, we coarsely approximate these delays by\nfinding the pressure argmax at each element's nearest-neighbor coordinates.\n\n"
      ]
    },
    {
      "cell_type": "code",
      "execution_count": null,
      "metadata": {
        "collapsed": false
      },
      "outputs": [],
      "source": [
        "# Map array elements onto the nearest pixels in our simulation\ndef map_coordinates_to_indices(coordinates, origin, dx):\n    indices = np.round((coordinates - origin) / dx).astype(int)\n    return indices\n\n\n# Get the pressure time-series of these elements\n[true_source] = true_scenario.sources\nassert isinstance(true_source, ndk.sources.PhasedArraySource2D)\nelement_indices = map_coordinates_to_indices(\n    true_source.element_positions,\n    reversed_scenario.origin,\n    reversed_scenario.dx,\n)\npressure_at_elements = result.wavefield[element_indices[:, 0], element_indices[:, 1]]\n\n# Calculate the time of arrival for each element\nelement_reverse_delays = np.argmax(pressure_at_elements, axis=1) * result.effective_dt\nplt.plot(element_reverse_delays, marker=\"o\")\nplt.xlabel(\"element index\")\nplt.ylabel(\"delay [s]\")"
      ]
    },
    {
      "cell_type": "markdown",
      "metadata": {},
      "source": [
        "Visually inspecting the earlier scenario layout, these results seem reasonable.\nThe expected delay \\(t_d\\) is approximately:\n\n$$\nt_d \\approx \\frac{||x_{source} - x_{target}||_2}{c_{water}} \\approx\n\\frac{0.07 \\text{ m}}{1500 \\text{ m/s}} \\approx 47 \\mu s\n$$\n\n\n"
      ]
    },
    {
      "cell_type": "markdown",
      "metadata": {},
      "source": [
        "## Use delays in forward-time simulation\nNext, let's validate these delays by using them in a normal forward-time\nsimulation.\nWe simulate the original scenario, setting the pulse delays as calculated.\n\n"
      ]
    },
    {
      "cell_type": "code",
      "execution_count": null,
      "metadata": {
        "collapsed": false
      },
      "outputs": [],
      "source": [
        "# Elements that took longer to reach should now be pulsed first,\n# so we invert the values\nelement_delays = element_reverse_delays.max() - element_reverse_delays\n\ntrue_scenario = make_scenario(element_delays=element_delays)\ntrue_scenario.make_grid()\ntrue_scenario.compile_problem()\nresult = true_scenario.simulate_pulse()\nassert isinstance(result, ndk.results.PulsedResult2D)\nresult.render_pulsed_simulation_animation()"
      ]
    },
    {
      "cell_type": "markdown",
      "metadata": {},
      "source": [
        "The pulse should focus on the true target.\n\n"
      ]
    },
    {
      "cell_type": "markdown",
      "metadata": {},
      "source": [
        "### Simulate steady-state\nAnother way to visualize the simulation is to check that the steady-state\npressure (within the skull) peaks near the target.\n\n"
      ]
    },
    {
      "cell_type": "code",
      "execution_count": null,
      "metadata": {
        "collapsed": false
      },
      "outputs": [],
      "source": [
        "# Re-initialize scenario to clear previous simulation\ntrue_scenario = make_scenario(element_delays=element_delays)\ntrue_scenario.make_grid()\ntrue_scenario.compile_problem()\nsteady_state_result = true_scenario.simulate_steady_state()\nassert isinstance(steady_state_result, ndk.results.SteadyStateResult2D)\nsteady_state_result.render_steady_state_amplitudes()"
      ]
    },
    {
      "cell_type": "markdown",
      "metadata": {},
      "source": [
        "We want to visualize and find the maximum pressure within the brain, so let's\nmask out everything else.\n\n"
      ]
    },
    {
      "cell_type": "code",
      "execution_count": null,
      "metadata": {
        "collapsed": false
      },
      "outputs": [],
      "source": [
        "steady_state_pressure = steady_state_result.get_steady_state()\n# Only consider the brain region\nsteady_state_pressure[~true_scenario.material_masks[\"brain\"]] = np.nan\nsteady_state_result.steady_state = steady_state_pressure\n\nsteady_state_result.render_steady_state_amplitudes()"
      ]
    },
    {
      "cell_type": "markdown",
      "metadata": {},
      "source": [
        "We can also calculate how far the \"time reverse\" estimate is from the true\ntarget.\n\n"
      ]
    },
    {
      "cell_type": "code",
      "execution_count": null,
      "metadata": {
        "collapsed": false
      },
      "outputs": [],
      "source": [
        "max_pressure_flat_idx = np.nanargmax(steady_state_pressure)\nmax_pressure_idx = np.unravel_index(max_pressure_flat_idx, steady_state_pressure.shape)\nmax_pressure_idx\n\ngrid = steady_state_result.traces.grid.space.grid\nfocal_point = np.array(\n    [\n        grid[0][max_pressure_idx[0]],\n        grid[1][max_pressure_idx[1]],\n    ]\n)\n# The backend grid is in different coordinates from the scenario grid, so we\n# need to shift it.\nfocal_point += true_scenario.origin\n\nprint(\"target center:\", true_scenario.target.center)\nprint(\"beam focal point:\", focal_point)\nerror_distance = np.linalg.norm(true_scenario.target.center - focal_point)\nprint(\"error [m]:\", error_distance)\nprint(\"error [mm]:\", error_distance * 1000)"
      ]
    },
    {
      "cell_type": "markdown",
      "metadata": {},
      "source": [
        "## Reasons for target mismatch\nThe time-reverse simulation is not an exact solution for the forward-time\ndesign. Other factors, like the angle of incidence at the boundary of two\nmaterials, will be different in the time reverse vs forward-time.\n\n### Exercise\nDo you think the time-reverse simulation will work better or worse for deeper\ntargets? How about if the transducer was positioned next to a different part\nof the skull that is flatter?\n\n"
      ]
    },
    {
      "cell_type": "markdown",
      "metadata": {},
      "source": [
        "### Acknowledgments\nThanks to Sergio Jim\u00e9nez-Gamb\u00edn and Samuel Blackman for pointing us to the\n\"time reverse\" simulation method.\n\n"
      ]
    }
  ],
  "metadata": {
    "kernelspec": {
      "display_name": "Python 3",
      "language": "python",
      "name": "python3"
    },
    "language_info": {
      "codemirror_mode": {
        "name": "ipython",
        "version": 3
      },
      "file_extension": ".py",
      "mimetype": "text/x-python",
      "name": "python",
      "nbconvert_exporter": "python",
      "pygments_lexer": "ipython3",
      "version": "3.10.10"
    }
  },
  "nbformat": 4,
  "nbformat_minor": 0
}