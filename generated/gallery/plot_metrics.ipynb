{
  "cells": [
    {
      "cell_type": "code",
      "execution_count": null,
      "metadata": {
        "collapsed": false
      },
      "outputs": [],
      "source": [
        "%matplotlib inline"
      ]
    },
    {
      "cell_type": "markdown",
      "metadata": {},
      "source": [
        "\nReading simulation metrics\n====================================\n\n!!! note\n    NDK and its examples are under constant development, more information\n    and content will be added to this example soon!\n\nThis example demonstrates how to display the metrics collected from the simulation.\n"
      ]
    },
    {
      "cell_type": "markdown",
      "metadata": {},
      "source": [
        "## Rendering scenario\n\n"
      ]
    },
    {
      "cell_type": "code",
      "execution_count": null,
      "metadata": {
        "collapsed": false
      },
      "outputs": [],
      "source": [
        "import neurotechdevkit as ndk\n\nscenario = ndk.make(\"scenario-0-v0\")\nresult = scenario.simulate_steady_state()\nassert isinstance(result, ndk.results.SteadyStateResult2D)\nresult.render_steady_state_amplitudes(show_material_outlines=False)"
      ]
    },
    {
      "cell_type": "markdown",
      "metadata": {},
      "source": [
        "## Printing metrics\n\n"
      ]
    },
    {
      "cell_type": "code",
      "execution_count": null,
      "metadata": {
        "collapsed": false
      },
      "outputs": [],
      "source": [
        "for metric, metric_value in result.metrics.items():\n    print(f\"{metric}:\")\n    print(f\"\\t {metric_value['description']}\")\n    print(\n        f\"\\t Unit: {metric_value['unit-of-measurement']} Value: {metric_value['value']}\"\n    )\n    print()"
      ]
    }
  ],
  "metadata": {
    "kernelspec": {
      "display_name": "Python 3",
      "language": "python",
      "name": "python3"
    },
    "language_info": {
      "codemirror_mode": {
        "name": "ipython",
        "version": 3
      },
      "file_extension": ".py",
      "mimetype": "text/x-python",
      "name": "python",
      "nbconvert_exporter": "python",
      "pygments_lexer": "ipython3",
      "version": "3.10.10"
    }
  },
  "nbformat": 4,
  "nbformat_minor": 0
}