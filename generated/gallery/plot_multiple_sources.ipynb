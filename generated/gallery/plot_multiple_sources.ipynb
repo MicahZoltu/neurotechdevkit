{
  "cells": [
    {
      "cell_type": "code",
      "execution_count": null,
      "metadata": {
        "collapsed": false
      },
      "outputs": [],
      "source": [
        "%matplotlib inline"
      ]
    },
    {
      "cell_type": "markdown",
      "metadata": {},
      "source": [
        "\nAdding multiple sources\n====================================\n\n!!! note\n    NDK and its examples are under constant development, more information\n    and content will be added to this example soon!\n\nAdding multiple sources for transcranial ultrasound stimulation enables\ngreater precision and control in targeting specific areas of the brain.\n\nBy choosing the phase of ultrasound waves for each source, a combined beam\ncan be created that is focused on the desired target precisely. This allows\nfor complex wave patterns that open up new possibilities for therapies.\n"
      ]
    },
    {
      "cell_type": "code",
      "execution_count": null,
      "metadata": {
        "collapsed": false
      },
      "outputs": [],
      "source": [
        "import neurotechdevkit as ndk\n\nscenario = ndk.built_in.Scenario0()\n\ns1 = ndk.sources.FocusedSource2D(\n    position=[0.01, 0.0],\n    direction=[0.92, 0.25],\n    aperture=0.01,\n    focal_length=0.022,\n    num_points=1000,\n)\n\ns2 = ndk.sources.FocusedSource2D(\n    position=[0.04, -0.002],\n    direction=[-0.85, 0.35],\n    aperture=0.01,\n    focal_length=0.011,\n    num_points=1000,\n    delay=5.1e-6,\n)\n\nscenario.sources = [s1, s2]\nscenario.make_grid()\nscenario.compile_problem()\nresult = scenario.simulate_pulse()\nassert isinstance(result, ndk.results.PulsedResult2D)\nresult.render_pulsed_simulation_animation()"
      ]
    }
  ],
  "metadata": {
    "kernelspec": {
      "display_name": "Python 3",
      "language": "python",
      "name": "python3"
    },
    "language_info": {
      "codemirror_mode": {
        "name": "ipython",
        "version": 3
      },
      "file_extension": ".py",
      "mimetype": "text/x-python",
      "name": "python",
      "nbconvert_exporter": "python",
      "pygments_lexer": "ipython3",
      "version": "3.10.10"
    }
  },
  "nbformat": 4,
  "nbformat_minor": 0
}