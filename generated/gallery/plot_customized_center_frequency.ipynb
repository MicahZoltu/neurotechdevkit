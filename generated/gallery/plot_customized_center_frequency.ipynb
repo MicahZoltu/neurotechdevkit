{
  "cells": [
    {
      "cell_type": "code",
      "execution_count": null,
      "metadata": {
        "collapsed": false
      },
      "outputs": [],
      "source": [
        "%matplotlib inline"
      ]
    },
    {
      "cell_type": "markdown",
      "metadata": {},
      "source": [
        "\nCustom center frequency\n====================================\n\nThis example demonstrates how to use a customized center frequency\nusing ndk\n"
      ]
    },
    {
      "cell_type": "code",
      "execution_count": null,
      "metadata": {
        "collapsed": false
      },
      "outputs": [],
      "source": [
        "import neurotechdevkit as ndk\n\nCENTER_FREQUENCY = 6e5\n\nscenario = ndk.make(\"scenario-0-v0\")\n\n# using default material layers\nscenario.material_layers = [\"water\", \"cortical_bone\", \"brain\", \"tumor\"]\n\n# Customizing material properties\nscenario.material_properties = {\n    \"tumor\": ndk.materials.Material(\n        vp=1850.0, rho=1250.0, alpha=0.8, render_color=\"#94332F\"\n    ),\n}\n\nresult = scenario.simulate_steady_state(center_frequency=CENTER_FREQUENCY)\nassert isinstance(result, ndk.results.SteadyStateResult2D)\nresult.render_steady_state_amplitudes(show_material_outlines=False)"
      ]
    }
  ],
  "metadata": {
    "kernelspec": {
      "display_name": "Python 3",
      "language": "python",
      "name": "python3"
    },
    "language_info": {
      "codemirror_mode": {
        "name": "ipython",
        "version": 3
      },
      "file_extension": ".py",
      "mimetype": "text/x-python",
      "name": "python",
      "nbconvert_exporter": "python",
      "pygments_lexer": "ipython3",
      "version": "3.10.10"
    }
  },
  "nbformat": 4,
  "nbformat_minor": 0
}