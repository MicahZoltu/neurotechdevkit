{
  "cells": [
    {
      "cell_type": "code",
      "execution_count": null,
      "metadata": {
        "collapsed": false
      },
      "outputs": [],
      "source": [
        "%matplotlib inline"
      ]
    },
    {
      "cell_type": "markdown",
      "metadata": {},
      "source": [
        "\nCustom center frequency\n====================================\n\nThis example demonstrates how to use a customized center frequency\nusing ndk\n"
      ]
    },
    {
      "cell_type": "code",
      "execution_count": null,
      "metadata": {
        "collapsed": false
      },
      "outputs": [],
      "source": [
        "import neurotechdevkit as ndk\n\nCENTER_FREQUENCY = 6e5\n\nscenario = ndk.scenarios.built_in.Scenario0()\n\n# Customizing material properties\nscenario.material_properties = {\n    \"tumor\": ndk.materials.Material(\n        vp=1850.0, rho=1250.0, alpha=0.8, render_color=\"#94332F\"\n    ),\n}\nscenario.center_frequency = CENTER_FREQUENCY\nscenario.make_grid()\nscenario.compile_problem()\nresult = scenario.simulate_steady_state()\nassert isinstance(result, ndk.results.SteadyStateResult2D)\nresult.render_steady_state_amplitudes(show_material_outlines=False)"
      ]
    }
  ],
  "metadata": {
    "kernelspec": {
      "display_name": "Python 3",
      "language": "python",
      "name": "python3"
    },
    "language_info": {
      "codemirror_mode": {
        "name": "ipython",
        "version": 3
      },
      "file_extension": ".py",
      "mimetype": "text/x-python",
      "name": "python",
      "nbconvert_exporter": "python",
      "pygments_lexer": "ipython3",
      "version": "3.10.10"
    }
  },
  "nbformat": 4,
  "nbformat_minor": 0
}