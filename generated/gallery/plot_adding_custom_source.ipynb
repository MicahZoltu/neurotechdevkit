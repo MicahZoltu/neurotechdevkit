{
  "cells": [
    {
      "cell_type": "code",
      "execution_count": null,
      "metadata": {
        "collapsed": false
      },
      "outputs": [],
      "source": [
        "%matplotlib inline"
      ]
    },
    {
      "cell_type": "markdown",
      "metadata": {},
      "source": [
        "\nCustom source\n====================================\n\n!!! note\n    NDK and its examples are under constant development, more information and content will be added to this example soon!\n\nThis example demonstrates how to add a source to the simulation.\n"
      ]
    },
    {
      "cell_type": "markdown",
      "metadata": {},
      "source": [
        "A Source receives the following parameters:\n\n\n- position `(npt.NDArray[np.float_])`: a numpy float array indicating the\n  coordinates (in meters) of the point at the center of the source.\n- direction `(npt.NDArray[np.float_])`: a numpy float array representing a vector\n  located at position and pointing towards the focal point. Only the\n  orientation of `direction` affects the source, the length of the vector has\n  no affect. See the `unit_direction` property.\n- aperture `(float)`: the width (in meters) of the source.\n- focal_length `(float)`: the distance (in meters) from `position` to the focal\n  point.\n- num_points `(int)`: the number of point sources to use when simulating the source.\n- delay `(float, optional)`: the delay (in seconds) that the source will wait before\n  emitting. Defaults to 0.0.\n\n"
      ]
    },
    {
      "cell_type": "code",
      "execution_count": null,
      "metadata": {
        "collapsed": false
      },
      "outputs": [],
      "source": [
        "import numpy as np\nimport neurotechdevkit as ndk\n\nsource = ndk.sources.FocusedSource2D(\n    position=np.array([0.00, 0.0]),\n    direction=np.array([0.9, 0.0]),\n    aperture=0.01,\n    focal_length=0.01,\n    num_points=1000,\n)\n\nscenario = ndk.make('scenario-0-v0')\nscenario.add_source(source)\nresult = scenario.simulate_steady_state()\nresult.render_steady_state_amplitudes()"
      ]
    }
  ],
  "metadata": {
    "kernelspec": {
      "display_name": "Python 3",
      "language": "python",
      "name": "python3"
    },
    "language_info": {
      "codemirror_mode": {
        "name": "ipython",
        "version": 3
      },
      "file_extension": ".py",
      "mimetype": "text/x-python",
      "name": "python",
      "nbconvert_exporter": "python",
      "pygments_lexer": "ipython3",
      "version": "3.10.10"
    }
  },
  "nbformat": 4,
  "nbformat_minor": 0
}