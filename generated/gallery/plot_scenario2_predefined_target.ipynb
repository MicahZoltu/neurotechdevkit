{
  "cells": [
    {
      "cell_type": "code",
      "execution_count": null,
      "metadata": {
        "collapsed": false
      },
      "outputs": [],
      "source": [
        "%matplotlib inline"
      ]
    },
    {
      "cell_type": "markdown",
      "metadata": {},
      "source": [
        "\nScenario 2 predefined target\n====================================\n\n!!! note\n    NDK and its examples are under constant development, more information\n    and content will be added to this example soon!\n\nThis example demonstrates how to use one of the predefined targets of\nscenario 2.\n"
      ]
    },
    {
      "cell_type": "markdown",
      "metadata": {},
      "source": [
        "The list of supported targets is:\n\n"
      ]
    },
    {
      "cell_type": "code",
      "execution_count": null,
      "metadata": {
        "collapsed": false
      },
      "outputs": [],
      "source": [
        "import neurotechdevkit as ndk\n\nscenario_2_2d_targets = (\n    ndk.scenarios.built_in.Scenario2_2D.PREDEFINED_TARGET_OPTIONS.keys()\n)\nscenario_2_3d_targets = (\n    ndk.scenarios.built_in.Scenario2_3D.PREDEFINED_TARGET_OPTIONS.keys()\n)\nprint(\"2D predefined targets: \\n\\t\", \", \".join(scenario_2_2d_targets), \"\\n\\n\")\nprint(\"3D predefined targets: \\n\\t\", \", \".join(scenario_2_3d_targets), \"\\n\\n\")"
      ]
    },
    {
      "cell_type": "markdown",
      "metadata": {},
      "source": [
        "Using one of the predefined targets is as simple as:\n\n"
      ]
    },
    {
      "cell_type": "code",
      "execution_count": null,
      "metadata": {
        "collapsed": false
      },
      "outputs": [],
      "source": [
        "scenario = ndk.built_in.Scenario2_2D()\ntarget_options = ndk.scenarios.built_in.Scenario2_2D.PREDEFINED_TARGET_OPTIONS\nscenario.target = target_options[\"posterior-cingulate-cortex\"]\nscenario.make_grid()\n\nscenario.render_layout()"
      ]
    },
    {
      "cell_type": "markdown",
      "metadata": {},
      "source": [
        "The same can be done for the 3D:\n\n"
      ]
    },
    {
      "cell_type": "code",
      "execution_count": null,
      "metadata": {
        "collapsed": false
      },
      "outputs": [],
      "source": [
        "scenario_3d = ndk.built_in.Scenario2_3D()\ntarget_options = ndk.scenarios.built_in.Scenario2_3D.PREDEFINED_TARGET_OPTIONS\nscenario_3d.target = target_options[\"left-temporal-lobe\"]\nscenario_3d.make_grid()\n\nscenario_3d.render_layout()"
      ]
    }
  ],
  "metadata": {
    "kernelspec": {
      "display_name": "Python 3",
      "language": "python",
      "name": "python3"
    },
    "language_info": {
      "codemirror_mode": {
        "name": "ipython",
        "version": 3
      },
      "file_extension": ".py",
      "mimetype": "text/x-python",
      "name": "python",
      "nbconvert_exporter": "python",
      "pygments_lexer": "ipython3",
      "version": "3.10.10"
    }
  },
  "nbformat": 4,
  "nbformat_minor": 0
}