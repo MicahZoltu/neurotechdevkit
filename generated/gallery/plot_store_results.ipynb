{
  "cells": [
    {
      "cell_type": "code",
      "execution_count": null,
      "metadata": {
        "collapsed": false
      },
      "outputs": [],
      "source": [
        "%matplotlib inline"
      ]
    },
    {
      "cell_type": "markdown",
      "metadata": {},
      "source": [
        "\nSave and load results\n====================================\n\n!!! note\n    NDK and its examples are under constant development, more information and content will be added to this example soon!\n\nThis example demonstrates how a simulation can be executed and stored in one\ncomputer and the results can be loaded and rendered later in the same computer or another one.\n"
      ]
    },
    {
      "cell_type": "markdown",
      "metadata": {},
      "source": [
        "Execute the following code in a computer with ndk installed\n\n"
      ]
    },
    {
      "cell_type": "code",
      "execution_count": null,
      "metadata": {
        "collapsed": false
      },
      "outputs": [],
      "source": [
        "import neurotechdevkit as ndk\n\nscenario = ndk.make('scenario-0-v0')\nresult = scenario.simulate_steady_state()\nresult.save_to_disk('scenario-0-v0-results.tar.gz')"
      ]
    },
    {
      "cell_type": "markdown",
      "metadata": {},
      "source": [
        "The output file from the previous step could be copied to\nanother computer with ndk installed or stored for future use. The results can\nbe loaded running the following code:\n\n"
      ]
    },
    {
      "cell_type": "code",
      "execution_count": null,
      "metadata": {
        "collapsed": false
      },
      "outputs": [],
      "source": [
        "import neurotechdevkit as ndk\n\nresult = ndk.load_result_from_disk('scenario-0-v0-results.tar.gz')\nresult.render_steady_state_amplitudes(show_material_outlines=False)"
      ]
    }
  ],
  "metadata": {
    "kernelspec": {
      "display_name": "Python 3",
      "language": "python",
      "name": "python3"
    },
    "language_info": {
      "codemirror_mode": {
        "name": "ipython",
        "version": 3
      },
      "file_extension": ".py",
      "mimetype": "text/x-python",
      "name": "python",
      "nbconvert_exporter": "python",
      "pygments_lexer": "ipython3",
      "version": "3.9.1"
    }
  },
  "nbformat": 4,
  "nbformat_minor": 0
}