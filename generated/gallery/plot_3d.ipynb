{
  "cells": [
    {
      "cell_type": "code",
      "execution_count": null,
      "metadata": {
        "collapsed": false
      },
      "outputs": [],
      "source": [
        "%matplotlib inline"
      ]
    },
    {
      "cell_type": "markdown",
      "metadata": {},
      "source": [
        "\nVisualizing 3D results with Napari\n====================================\n\nThis example demonstrates how to render a steady state result for\na 3D scenario using [napari](https://napari.org/stable/).\n\nRunning such simulations is computationally expensive and can take a long time to\ncomplete. For this reason, we recommend running this simulation on an external machine,\nstore the results in a file and then load them on your local machine for visualization.\n\nCheck the gallery example\n[Save and load results](./plot_store_results.md) to learn how to save and load results.\n"
      ]
    },
    {
      "cell_type": "markdown",
      "metadata": {},
      "source": [
        "The following step downloads and loads a simulation executed on an external machine.\n\n"
      ]
    },
    {
      "cell_type": "code",
      "execution_count": null,
      "metadata": {
        "collapsed": false
      },
      "outputs": [],
      "source": [
        "import pooch\n\nimport neurotechdevkit as ndk\n\nURL = \"https://neurotechdevkit.s3.us-west-2.amazonaws.com/result-scenario-2-3d.tz\"\nknown_hash = \"6a5de26466028c673d253ca014c75c719467ec6c28d7178baf9287b44ad15191\"\ndownloaded_file_path = pooch.retrieve(url=URL, known_hash=known_hash, progressbar=True)\nresult = ndk.load_result_from_disk(downloaded_file_path)"
      ]
    },
    {
      "cell_type": "markdown",
      "metadata": {},
      "source": [
        "In order to render the 3D results you will need to install\nInstall `napari` via pip:\n\n```\npip install \"napari[all]\"\n```\n\nor by following the `napari` installation instructions\n[link](https://napari.org/stable/tutorials/fundamentals/installation.html).\n\n"
      ]
    },
    {
      "cell_type": "code",
      "execution_count": null,
      "metadata": {
        "collapsed": false
      },
      "outputs": [],
      "source": [
        "try:\n    import napari  # noqa: F401\n\n    assert isinstance(result, ndk.results.SteadyStateResult3D)\n    result.render_steady_state_amplitudes_3d()\nexcept ImportError:\n    print(\n        \"napari has not been installed. Please install it with: pip install napari[all]\"\n    )"
      ]
    },
    {
      "cell_type": "markdown",
      "metadata": {},
      "source": [
        "If you have napari installed you should see an output like the following:\n\n```\nOpening the napari viewer. The window might not show up on top of your notebook;\nlook through your open applications if it does not.\n```\n\n"
      ]
    },
    {
      "cell_type": "markdown",
      "metadata": {},
      "source": [
        "If you have napari installed you should have been able to see an image like\nthe following:\n![3d-visualization](../../images/3d_visualization.gif)\n\n"
      ]
    }
  ],
  "metadata": {
    "kernelspec": {
      "display_name": "Python 3",
      "language": "python",
      "name": "python3"
    },
    "language_info": {
      "codemirror_mode": {
        "name": "ipython",
        "version": 3
      },
      "file_extension": ".py",
      "mimetype": "text/x-python",
      "name": "python",
      "nbconvert_exporter": "python",
      "pygments_lexer": "ipython3",
      "version": "3.10.10"
    }
  },
  "nbformat": 4,
  "nbformat_minor": 0
}