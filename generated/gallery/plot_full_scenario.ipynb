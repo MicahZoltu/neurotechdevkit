{
  "cells": [
    {
      "cell_type": "code",
      "execution_count": null,
      "metadata": {
        "collapsed": false
      },
      "outputs": [],
      "source": [
        "%matplotlib inline"
      ]
    },
    {
      "cell_type": "markdown",
      "metadata": {},
      "source": [
        "\nImplementing a full scenario\n====================================\n\n!!! note\n    NDK and its examples are under constant development, more information\n    and content will be added to this example soon!\n\nThe following code is a simplified implementation of NDK's Scenario 1.\n"
      ]
    },
    {
      "cell_type": "markdown",
      "metadata": {},
      "source": [
        "Implementing a Scenario\n\n"
      ]
    },
    {
      "cell_type": "code",
      "execution_count": null,
      "metadata": {
        "collapsed": false
      },
      "outputs": [],
      "source": [
        "import numpy as np\n\nfrom neurotechdevkit import sources\nfrom neurotechdevkit.grid import Grid\nfrom neurotechdevkit.problem import Problem\nfrom neurotechdevkit.results import SteadyStateResult2D\nfrom neurotechdevkit.scenarios import Scenario2D, Target"
      ]
    },
    {
      "cell_type": "markdown",
      "metadata": {},
      "source": [
        "Creating the scenario\n\n"
      ]
    },
    {
      "cell_type": "code",
      "execution_count": null,
      "metadata": {
        "collapsed": false
      },
      "outputs": [],
      "source": [
        "scenario = Scenario2D()\nscenario.center_frequency = 5e5  # Hz\nscenario.target = Target(\n    target_id=\"target_1\", center=[0.064, 0.0], radius=0.004, description=\"\"\n)\nscenario.material_properties = {}\nscenario.origin = [0.0, -0.035]\nscenario.sources = [\n    sources.FocusedSource2D(\n        position=[0.0, 0.0],\n        direction=[1.0, 0.0],\n        aperture=0.064,\n        focal_length=0.064,\n        num_points=1000,\n    )\n]\nscenario.material_outline_upsample_factor = 8"
      ]
    },
    {
      "cell_type": "markdown",
      "metadata": {},
      "source": [
        "Creating grid\n\n"
      ]
    },
    {
      "cell_type": "code",
      "execution_count": null,
      "metadata": {
        "collapsed": false
      },
      "outputs": [],
      "source": [
        "grid = Grid.make_grid(\n    extent=(0.12, 0.07),  # m\n    speed_water=1500,\n    center_frequency=scenario.center_frequency,\n    ppw=6,\n)\n\nscenario.grid = grid"
      ]
    },
    {
      "cell_type": "markdown",
      "metadata": {},
      "source": [
        "Creating masks\n\n"
      ]
    },
    {
      "cell_type": "code",
      "execution_count": null,
      "metadata": {
        "collapsed": false
      },
      "outputs": [],
      "source": [
        "def fill_mask(mask, start, end, dx):\n    # fill linearly along the x axis\n    if end is None:\n        n = int(start / dx)\n        mask[n:] = True\n    else:\n        n = int(start / dx)\n        m = int(end / dx)\n        mask[n:m] = True\n\n\ndef create_masks(grid):\n    # layers are defined by X position\n    dx = grid.space.spacing[0]\n\n    layers_m = np.array(\n        [\n            0.026,  # water\n            0.004,  # skin\n            0.0015,  # cortical bone\n            0.004,  # trabecular bone\n            0.001,  # cortical bone\n            0.0835,  # brain\n        ]\n    )\n    layers = np.array(\n        [\"water\", \"skin\", \"cortical_bone\", \"trabecular_bone\", \"cortical_bone\", \"brain\"]\n    )\n    interfaces = np.cumsum(layers_m)\n\n    mask_materials = {}\n\n    for material in np.unique(layers):\n        mask = np.zeros(grid.space.shape, dtype=bool)\n        for index in np.where(layers == material)[0]:\n            start = interfaces[index - 1] if material != \"water\" else 0\n            end = interfaces[index] if material != \"brain\" else None\n            fill_mask(mask, start=start, end=end, dx=dx)\n        mask_materials[material] = mask\n    return mask_materials\n\n\nscenario.material_masks = create_masks(grid)"
      ]
    },
    {
      "cell_type": "markdown",
      "metadata": {},
      "source": [
        "Rendering the layout\n\n"
      ]
    },
    {
      "cell_type": "code",
      "execution_count": null,
      "metadata": {
        "collapsed": false
      },
      "outputs": [],
      "source": [
        "scenario.render_layout()"
      ]
    },
    {
      "cell_type": "markdown",
      "metadata": {},
      "source": [
        "Creating problem\n\n"
      ]
    },
    {
      "cell_type": "code",
      "execution_count": null,
      "metadata": {
        "collapsed": false
      },
      "outputs": [],
      "source": [
        "problem = Problem(grid=grid)\nproblem.add_material_fields(\n    materials=scenario.materials,\n    masks=scenario.material_masks,\n)\nscenario.problem = problem"
      ]
    },
    {
      "cell_type": "markdown",
      "metadata": {},
      "source": [
        "Rendering the simulation\n\n"
      ]
    },
    {
      "cell_type": "code",
      "execution_count": null,
      "metadata": {
        "collapsed": false
      },
      "outputs": [],
      "source": [
        "result = scenario.simulate_steady_state()\nassert isinstance(result, SteadyStateResult2D)\nresult.render_steady_state_amplitudes(show_material_outlines=False)"
      ]
    }
  ],
  "metadata": {
    "kernelspec": {
      "display_name": "Python 3",
      "language": "python",
      "name": "python3"
    },
    "language_info": {
      "codemirror_mode": {
        "name": "ipython",
        "version": 3
      },
      "file_extension": ".py",
      "mimetype": "text/x-python",
      "name": "python",
      "nbconvert_exporter": "python",
      "pygments_lexer": "ipython3",
      "version": "3.10.10"
    }
  },
  "nbformat": 4,
  "nbformat_minor": 0
}