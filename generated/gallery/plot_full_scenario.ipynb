{
  "cells": [
    {
      "cell_type": "code",
      "execution_count": null,
      "metadata": {
        "collapsed": false
      },
      "outputs": [],
      "source": [
        "%matplotlib inline"
      ]
    },
    {
      "cell_type": "markdown",
      "metadata": {},
      "source": [
        "\nImplementing a full scenario\n====================================\n\n!!! note\n    NDK and its examples are under constant development, more information\n    and content will be added to this example soon!\n\nThe following code is a simplified implementation of NDK's Scenario 1.\n"
      ]
    },
    {
      "cell_type": "markdown",
      "metadata": {},
      "source": [
        "## Implementing a Scenario\n\n"
      ]
    },
    {
      "cell_type": "code",
      "execution_count": null,
      "metadata": {
        "collapsed": false
      },
      "outputs": [],
      "source": [
        "import numpy as np\nimport stride\n\nfrom neurotechdevkit import sources\nfrom neurotechdevkit.results import SteadyStateResult2D\nfrom neurotechdevkit.scenarios import (\n    Scenario2D,\n    Target,\n    add_material_fields_to_problem,\n    make_grid,\n)\n\n\nclass FullScenario(Scenario2D):\n    \"\"\"This Scenario is based on benchmark 4 of the following paper:\n\n    Jean-Francois Aubry, Oscar Bates, Christian Boehm, et al., \"Benchmark problems for\n    transcranial ultrasound simulation: Intercomparison of compressional wave models\",\n    The Journal of the Acoustical Society of America 152, 1003 (2022);\n    doi: 10.1121/10.0013426\n    https://asa.scitation.org/doi/pdf/10.1121/10.0013426\n    \"\"\"\n\n    _SCENARIO_ID = \"the_id_for_this_scenario\"\n\n    \"\"\"\n    Target attributes:\n        target_id: the string id of the target.\n        center: the location of the center of the target (in meters).\n        radius: the radius of the target (in meters).\n        description: a text describing the target.\n    \"\"\"\n    _TARGET_OPTIONS = {\n        \"target_1\": Target(\"target_1\", np.array([0.064, 0.0]), 0.004, \"\"),\n    }\n\n    \"\"\"\n    The order of returned materials defines the layering of the scenario.\n    \"\"\"\n    material_layers = [\n        \"water\",\n        \"skin\",\n        \"cortical_bone\",\n        \"trabecular_bone\",\n        \"brain\",\n    ]\n\n    def __init__(self, complexity=\"fast\"):\n        \"\"\"\n        Instantiate a new scenario.\n        The origin defines the spatial coordinates of grid position (0, 0, 0).\n        \"\"\"\n        self._target_id = \"target_1\"\n\n        super().__init__(\n            origin=np.array([0.0, -0.035]),\n            complexity=complexity,\n        )\n\n    @property\n    def _material_outline_upsample_factor(self) -> int:\n        \"\"\"\n        The factor to use when upsampling the material field before\n        detecting transitions between materials. If the factor is N, then each pixel\n        will be split into N^2 pixels. Defaults to 1 (no resampling).\n        \"\"\"\n        return 8\n\n    def _compile_problem(self, center_frequency) -> stride.Problem:\n        \"\"\"The problem definition for the scenario.\"\"\"\n        extent = np.array([0.12, 0.07])  # m\n        # scenario constants\n        speed_water = 1500  # m/s\n\n        # desired resolution for complexity=fast\n        ppw = 6\n\n        # compute resolution\n        dx = speed_water / center_frequency / ppw  # m\n\n        grid = make_grid(extent=extent, dx=dx)\n        problem = stride.Problem(\n            name=f\"{self.scenario_id}-{self.complexity}\", grid=grid\n        )\n        problem = add_material_fields_to_problem(\n            problem=problem,\n            materials=self.get_materials(center_frequency),\n            layer_ids=self.layer_ids,\n            masks={\n                name: _create_scenario_1_mask(name, problem.grid)\n                for name in self.material_layers\n            },\n        )\n        return problem\n\n    def get_default_source(self) -> sources.Source:\n        \"\"\"The transducer source for the scenario.\"\"\"\n        return sources.FocusedSource2D(\n            position=np.array([0.0, 0.0]),\n            direction=np.array([1.0, 0.0]),\n            aperture=0.064,\n            focal_length=0.064,\n            num_points=1000,\n        )\n\n\ndef _create_scenario_1_mask(material, grid):\n    # layers are defined by X position\n    dx = grid.space.spacing[0]\n\n    layers_m = np.array(\n        [\n            0.026,  # water\n            0.004,  # skin\n            0.0015,  # cortical bone\n            0.004,  # trabecular bone\n            0.001,  # cortical bone\n            0.0835,  # brain\n        ]\n    )\n    interfaces = np.cumsum(layers_m)\n\n    mask = np.zeros(grid.space.shape, dtype=bool)\n\n    if material == \"water\":\n        _fill_mask(mask, start=0, end=interfaces[0], dx=dx)\n\n    elif material == \"skin\":\n        _fill_mask(mask, start=interfaces[0], end=interfaces[1], dx=dx)\n\n    elif material == \"cortical_bone\":\n        _fill_mask(mask, start=interfaces[1], end=interfaces[2], dx=dx)\n        _fill_mask(mask, start=interfaces[3], end=interfaces[4], dx=dx)\n\n    elif material == \"trabecular_bone\":\n        _fill_mask(mask, start=interfaces[2], end=interfaces[3], dx=dx)\n\n    elif material == \"brain\":\n        _fill_mask(mask, start=interfaces[4], end=None, dx=dx)\n\n    else:\n        raise ValueError(material)\n\n    return mask\n\n\ndef _fill_mask(mask, start, end, dx):\n    # fill linearly along the x axis\n    if end is None:\n        n = int(start / dx)\n        mask[n:] = True\n    else:\n        n = int(start / dx)\n        m = int(end / dx)\n        mask[n:m] = True"
      ]
    },
    {
      "cell_type": "markdown",
      "metadata": {},
      "source": [
        "## Running the scenario\n\n"
      ]
    },
    {
      "cell_type": "code",
      "execution_count": null,
      "metadata": {
        "collapsed": false
      },
      "outputs": [],
      "source": [
        "scenario = FullScenario()\nresult = scenario.simulate_steady_state()\nassert isinstance(result, SteadyStateResult2D)\nresult.render_steady_state_amplitudes(show_material_outlines=False)"
      ]
    }
  ],
  "metadata": {
    "kernelspec": {
      "display_name": "Python 3",
      "language": "python",
      "name": "python3"
    },
    "language_info": {
      "codemirror_mode": {
        "name": "ipython",
        "version": 3
      },
      "file_extension": ".py",
      "mimetype": "text/x-python",
      "name": "python",
      "nbconvert_exporter": "python",
      "pygments_lexer": "ipython3",
      "version": "3.10.10"
    }
  },
  "nbformat": 4,
  "nbformat_minor": 0
}