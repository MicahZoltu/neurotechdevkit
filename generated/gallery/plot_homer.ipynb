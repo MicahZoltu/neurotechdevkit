{
  "cells": [
    {
      "cell_type": "code",
      "execution_count": null,
      "metadata": {
        "collapsed": false
      },
      "outputs": [],
      "source": [
        "%matplotlib inline"
      ]
    },
    {
      "cell_type": "markdown",
      "metadata": {},
      "source": [
        "\nCustomizing head shape with Homer Simpson\n====================================\n\nFor additional context, check out [FixingHomer.com](https://fixinghomer.com/).\nTLDR: We take [this](\n    https://neurotechdevkit.s3.us-west-2.amazonaws.com/homer.webp\n) fun image and show how flexible the NDK is for transcranial ultrasound simulation.\n"
      ]
    },
    {
      "cell_type": "markdown",
      "metadata": {},
      "source": [
        "The following step downloads and loads numpy material masks\nThe masks were generated using in the image from fixinghomer.com\n\n"
      ]
    },
    {
      "cell_type": "code",
      "execution_count": null,
      "metadata": {
        "collapsed": false
      },
      "outputs": [],
      "source": [
        "import numpy as np\nimport pooch\n\nimport neurotechdevkit as ndk\n\nmasks_url = \"https://neurotechdevkit.s3.us-west-2.amazonaws.com/homer_masks.npz\"\nknown_hash = \"9f58e7d1f68f45466ee5fe848a83dd8eb676139672c44af5214231b3e3fe6fb9\"\ndownloaded_file_path = pooch.retrieve(\n    masks_url, known_hash=known_hash, progressbar=True\n)\nwith np.load(downloaded_file_path) as data:\n    masks = dict(data)\nmasks = {k: v.astype(np.bool_) for k, v in masks.items()}"
      ]
    },
    {
      "cell_type": "markdown",
      "metadata": {},
      "source": [
        "Setup the scenario using the NDK\n\n"
      ]
    },
    {
      "cell_type": "code",
      "execution_count": null,
      "metadata": {
        "collapsed": false
      },
      "outputs": [],
      "source": [
        "extent = (\n    0.1355,\n    0.1205,\n)  # (x, y) in meters.\n# This size matches the size of the image from fixinghomer.com at 272x242,\n# given our other chosen parameters (`ppw` and `center_frequency`)\n\ntarget_center = [0.036, 0.067]  # target positioned on his brain\ntarget_radius = 0.004\ncenter_frequency = 5e5\n\n# define the brainstem material (the other materials used here are standard in the NDK)\nbrainstem_mat = ndk.materials.Material(\n    vp=1540.0, rho=1000.0, alpha=0.001, render_color=\"#510400\"\n)\n\n# adjust cortical bone properties to handle the unusual head shape and skull thickness\ncortical_bone_mat = ndk.materials.Material(\n    vp=1800, rho=3350, alpha=2.37, render_color=\"#FAF0CA\"\n)\n\n# Define the Scenario in 2 dimensions\nscenario = ndk.scenarios.Scenario2D(\n    material_properties={\n        \"brainstem\": brainstem_mat,\n        \"cortical_bone\": cortical_bone_mat,\n        # the other materials are standard in the NDK\n    }\n)\n\n# specify the target marker\nscenario.target = ndk.scenarios.Target(\n    target_id=\"target_1\",\n    center=target_center,\n    radius=target_radius,\n    description=\"cortex, posterior\",\n)"
      ]
    },
    {
      "cell_type": "markdown",
      "metadata": {},
      "source": [
        "Next, we add the source transducer.\n\n"
      ]
    },
    {
      "cell_type": "code",
      "execution_count": null,
      "metadata": {
        "collapsed": false
      },
      "outputs": [],
      "source": [
        "source_position = [0.02, 0.1]\nsource_target = [0.037, 0.067]\nsource = ndk.sources.FocusedSource2D(\n    position=source_position,\n    direction=np.array(source_target) - np.array(source_position),\n    aperture=0.05,\n    focal_length=0.038,\n    num_points=1000,\n)\n\n# The failed scenario shown on fixinghomer.com is commented here for reference.\n# failed_source_position=[0.08, 0.106]\n# failed_source_target = [0.037, 0.067]\n# failed_source = ndk.sources.FocusedSource2D(\n#     position=failed_source_position,\n#     direction=np.array(failed_source_target) - np.array(failed_source_position),\n#     aperture=0.04, # width of the source\n#     focal_length=0.06, #distance to focal point\n#     num_points=1000,\n# )\n\nscenario.sources = [source]  # , failed_source]\n\nscenario.origin = [0, 0]\nscenario.material_outline_upsample_factor = 8\nscenario.center_frequency = center_frequency  # Hz\n\ngrid = ndk.grid.Grid.make_grid(\n    extent=extent,  # m\n    speed_water=1500,\n    center_frequency=scenario.center_frequency,\n    ppw=6,\n)\n\nscenario.grid = grid\n\n# confirm that the grid size matches the image size of 272x242\nprint(\"total voxels:\")\nprint(grid.space.shape[0], grid.space.shape[1])\n\ndx = grid.space.spacing[0]\nscenario.material_masks = masks"
      ]
    },
    {
      "cell_type": "markdown",
      "metadata": {},
      "source": [
        "Now, we are ready to review the layout, and run the simulation.\n\n"
      ]
    },
    {
      "cell_type": "code",
      "execution_count": null,
      "metadata": {
        "collapsed": false
      },
      "outputs": [],
      "source": [
        "scenario.render_layout()"
      ]
    },
    {
      "cell_type": "markdown",
      "metadata": {},
      "source": [
        "Set up the Problem\n\n"
      ]
    },
    {
      "cell_type": "code",
      "execution_count": null,
      "metadata": {
        "collapsed": false
      },
      "outputs": [],
      "source": [
        "problem = ndk.problem.Problem(grid=grid)\nproblem.add_material_fields(\n    materials=scenario.materials,\n    masks=scenario.material_masks,\n)"
      ]
    },
    {
      "cell_type": "markdown",
      "metadata": {},
      "source": [
        "Rendering the simulation\n\n"
      ]
    },
    {
      "cell_type": "code",
      "execution_count": null,
      "metadata": {
        "collapsed": false
      },
      "outputs": [],
      "source": [
        "scenario.problem = problem\nresult = scenario.simulate_steady_state()\nassert isinstance(result, ndk.results.SteadyStateResult2D)\nresult.render_steady_state_amplitudes(show_material_outlines=True)"
      ]
    },
    {
      "cell_type": "markdown",
      "metadata": {},
      "source": [
        "We've successfully hit the target, and can proceed with treatment for Homer!\n[FixingHomer.com](https://fixinghomer.com/)\n\n"
      ]
    }
  ],
  "metadata": {
    "kernelspec": {
      "display_name": "Python 3",
      "language": "python",
      "name": "python3"
    },
    "language_info": {
      "codemirror_mode": {
        "name": "ipython",
        "version": 3
      },
      "file_extension": ".py",
      "mimetype": "text/x-python",
      "name": "python",
      "nbconvert_exporter": "python",
      "pygments_lexer": "ipython3",
      "version": "3.10.10"
    }
  },
  "nbformat": 4,
  "nbformat_minor": 0
}